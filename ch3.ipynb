{
 "cells": [
  {
   "cell_type": "markdown",
   "id": "42fe38e3-780a-4c41-b89b-7c114a29de62",
   "metadata": {},
   "source": [
    "# coding attention mechanisms"
   ]
  },
  {
   "cell_type": "markdown",
   "id": "611f3f60-c751-40ea-b76a-4d9d8be729ff",
   "metadata": {},
   "source": [
    "before transformers, RNNs were heavily used for machine translation, it has an encoder that reads the input sentence and stores in a hidden layer, which is then passed to the decoder for translation.\n",
    "\n",
    "the big limitation of encoder-decoder RNNs is that the RNN can't directly access earlier hidden states from the encoder during the decoding phase.\n",
    "> relies solely on the current hidden state for all relevant information\n",
    "> > which leads to context loss, specially in complex sentences"
   ]
  },
  {
   "cell_type": "code",
   "execution_count": null,
   "id": "cefe874d-8d90-4b4b-a088-5a35c175eded",
   "metadata": {},
   "outputs": [],
   "source": []
  }
 ],
 "metadata": {
  "kernelspec": {
   "display_name": "Python 3 (ipykernel)",
   "language": "python",
   "name": "python3"
  },
  "language_info": {
   "codemirror_mode": {
    "name": "ipython",
    "version": 3
   },
   "file_extension": ".py",
   "mimetype": "text/x-python",
   "name": "python",
   "nbconvert_exporter": "python",
   "pygments_lexer": "ipython3",
   "version": "3.12.8"
  }
 },
 "nbformat": 4,
 "nbformat_minor": 5
}
