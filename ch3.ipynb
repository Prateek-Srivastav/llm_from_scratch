{
 "cells": [
  {
   "cell_type": "markdown",
   "id": "42fe38e3-780a-4c41-b89b-7c114a29de62",
   "metadata": {},
   "source": [
    "# coding attention mechanisms"
   ]
  },
  {
   "cell_type": "code",
   "execution_count": null,
   "id": "075281a4-e80d-49c4-9f4a-3aea9c6a694d",
   "metadata": {},
   "outputs": [],
   "source": []
  },
  {
   "cell_type": "code",
   "execution_count": null,
   "id": "cefe874d-8d90-4b4b-a088-5a35c175eded",
   "metadata": {},
   "outputs": [],
   "source": []
  }
 ],
 "metadata": {
  "kernelspec": {
   "display_name": "Python 3 (ipykernel)",
   "language": "python",
   "name": "python3"
  },
  "language_info": {
   "codemirror_mode": {
    "name": "ipython",
    "version": 3
   },
   "file_extension": ".py",
   "mimetype": "text/x-python",
   "name": "python",
   "nbconvert_exporter": "python",
   "pygments_lexer": "ipython3",
   "version": "3.12.8"
  }
 },
 "nbformat": 4,
 "nbformat_minor": 5
}
